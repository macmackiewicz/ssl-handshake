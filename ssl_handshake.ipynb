{
 "cells": [
  {
   "cell_type": "markdown",
   "metadata": {},
   "source": [
    "# SSL/TLS handshake\n",
    "An overview of SSL/TLS handshake performed with Python ssl library and Wireshark."
   ]
  },
  {
   "cell_type": "markdown",
   "metadata": {},
   "source": [
    "### Overview\n",
    "SSL stands for **Secure Sockets Layer** and is designed to create secure connection between client and server. \n",
    "Secure means that connection is encrypted and therefore protected from eavesdropping. It also allows to validate server identity.\n",
    "\n",
    "A secure connection can be assured through following means:\n",
    "* Signed certificate, used to validate the server\n",
    "* Private-public key encryption or key exchange performed during establishing the handshake\n",
    "* Symmetric encryption of messages after handshake has been established"
   ]
  },
  {
   "cell_type": "markdown",
   "metadata": {},
   "source": [
    "A protocol for establishing secure connection looks as follow:  \n",
    "<img align=\"left\" src=\"./media/handshake.png\">"
   ]
  },
  {
   "cell_type": "markdown",
   "metadata": {},
   "source": [
    "It consists of following steps:  \n",
    "1. #### Client hello:\n",
    "    - client version - versions of SSL/TLS protocols supported by the client\n",
    "    - cipher suites - a list of cryptographic algorithms supported by the client\n",
    "2. #### Server hello\n",
    "    - server version - SSL/TLS version chosen by the server\n",
    "    - cipher suites - cipher chosen by the server\n",
    "    - certificate - signed certificate proving server's identity\n",
    "    - server hello done - confirmation that server hello message is complete\n",
    "3. #### Client key exchange:\n",
    "    - key exchange\n",
    "    - change cipher spec - information that any data sent afterwards will be encrypted\n",
    "    - finished"
   ]
  },
  {
   "cell_type": "markdown",
   "metadata": {},
   "source": [
    "### 1. Client hello\n",
    "Examplary SSL/TLS connection can be performed using ssl module from Python's standard library:"
   ]
  },
  {
   "cell_type": "code",
   "execution_count": 1,
   "metadata": {},
   "outputs": [
    {
     "name": "stdout",
     "output_type": "stream",
     "text": [
      "Used cipher: ECDHE-RSA-AES128-SHA256, ssl version: TLSv1/SSLv3\n"
     ]
    }
   ],
   "source": [
    "import ssl\n",
    "import socket\n",
    "\n",
    "sock = socket.socket(socket.AF_INET, socket.SOCK_STREAM)\n",
    "ssl_sock = ssl.wrap_socket(sock, ciphers='ECDHE-RSA-AES128-SHA256')\n",
    "\n",
    "ssl_sock.connect(('www.verisign.com', 443))\n",
    "\n",
    "cipher, ssl_version, _ = ssl_sock.cipher()\n",
    "print('Used cipher: {}, ssl version: {}'.format(cipher, ssl_version))"
   ]
  },
  {
   "cell_type": "markdown",
   "metadata": {},
   "source": [
    "In this example, choice of **ECDHE-RSA-AES128-SHA256** cipher can be examined in a Client Hello message captured by Wireshark:\n",
    "\n",
    "<img align=\"left\" src=\"./media/client_hello.png\">"
   ]
  },
  {
   "cell_type": "markdown",
   "metadata": {},
   "source": [
    "### 2. Server hello\n",
    "Server responds with a cipher version chosen from the list provided by the client. Usually it selects one of the strongest to ensure the best way to secure the connection, however since in this case client provided only one, it is the one being used.  \n",
    "<img align=\"left\" src=\"./media/server_hello.png\">"
   ]
  },
  {
   "cell_type": "markdown",
   "metadata": {},
   "source": [
    "In addition, server sends its certificate containing, among others, information about the issuer, certificate's expiry date and public key that can be used to encrypt pre-master secret key in RSA key-exchange method.  \n",
    "<img align=\"left\" src=\"./media/server_certificate.png\">"
   ]
  },
  {
   "cell_type": "markdown",
   "metadata": {},
   "source": [
    "Details regarding server's certificate can be extracted using **pyOpenSSL** library."
   ]
  },
  {
   "cell_type": "code",
   "execution_count": 2,
   "metadata": {},
   "outputs": [
    {
     "name": "stdout",
     "output_type": "stream",
     "text": [
      "Subject: Verisign, Inc www.verisign.com\n",
      "Valid from: 2017-08-02 00:00:00\n",
      "Valid to: 2019-08-07 23:59:59\n",
      "Name of the issuer: Symantec Corporation\n"
     ]
    }
   ],
   "source": [
    "from datetime import datetime\n",
    "from OpenSSL import crypto\n",
    "\n",
    "pem_certificate = ssl.DER_cert_to_PEM_cert(ssl_sock.getpeercert(True))\n",
    "\n",
    "certificate = crypto.load_certificate(crypto.FILETYPE_PEM, pem_certificate)\n",
    "subject = certificate.get_subject()\n",
    "issuer = certificate.get_issuer()\n",
    "\n",
    "print('Subject:', subject.organizationName, subject.commonName)\n",
    "print('Valid from:', datetime.strptime(certificate.get_notBefore().decode()[0:-1], '%Y%m%d%H%M%S'))\n",
    "print('Valid to:', datetime.strptime(certificate.get_notAfter().decode()[0:-1], '%Y%m%d%H%M%S'))\n",
    "print('Name of the issuer:', issuer.organizationName)"
   ]
  },
  {
   "cell_type": "markdown",
   "metadata": {},
   "source": [
    "After the client and server agree on a way of performing key exchange, another message is sent by the server (**Server Key Exchange**) containing information needed to calculate master key. Afterwards, the server ends its message with **Server Hello Done**.  \n",
    "<img align=\"left\" src=\"./media/server_key_exchange.png\">"
   ]
  },
  {
   "cell_type": "markdown",
   "metadata": {},
   "source": [
    "### 3. Client key exchange\n",
    "After receiving all the information needed from the server, the client sends its details regarding key exchange. In this case its a public key that will be used by the server to compute master key allowing for symmetric encryption.  \n",
    "<img align=\"left\" src=\"./media/client_key_exchange.png\">"
   ]
  },
  {
   "cell_type": "markdown",
   "metadata": {},
   "source": [
    "**Change Cipher Spec** message informs that any data sent afterwards will be encrypted."
   ]
  },
  {
   "cell_type": "code",
   "execution_count": 3,
   "metadata": {},
   "outputs": [
    {
     "name": "stdout",
     "output_type": "stream",
     "text": [
      "Protocol, response status:  HTTP/1.1 200 OK\n"
     ]
    }
   ],
   "source": [
    "try:\n",
    "    ssl_sock.sendall(b'GET / HTTP/1.1\\r\\nHost: www.verisign.com\\r\\nConnection: close\\r\\n\\r\\n')\n",
    "\n",
    "    response = b''\n",
    "    while True:\n",
    "        data = ssl_sock.recv()\n",
    "        if not data:\n",
    "            break\n",
    "        response += data\n",
    "\n",
    "    response_lines = response.decode().splitlines()\n",
    "    if not response_lines:\n",
    "        print('No response received...')\n",
    "    print('Protocol, response status: ', response_lines[0])\n",
    "except (ConnectionError, ssl.SSLError) as e:\n",
    "    print('Socket connection encountered an error: ', e)\n",
    "ssl_sock.close()"
   ]
  },
  {
   "cell_type": "markdown",
   "metadata": {},
   "source": [
    "<img align=\"left\" src=\"./media/application_data.png\">"
   ]
  }
 ],
 "metadata": {
  "kernelspec": {
   "display_name": "Python 3",
   "language": "python",
   "name": "python3"
  },
  "language_info": {
   "codemirror_mode": {
    "name": "ipython",
    "version": 3
   },
   "file_extension": ".py",
   "mimetype": "text/x-python",
   "name": "python",
   "nbconvert_exporter": "python",
   "pygments_lexer": "ipython3",
   "version": "3.5.0"
  }
 },
 "nbformat": 4,
 "nbformat_minor": 2
}
